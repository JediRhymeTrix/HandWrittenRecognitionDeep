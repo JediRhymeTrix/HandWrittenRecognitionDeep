{
 "cells": [
  {
   "attachments": {},
   "cell_type": "markdown",
   "metadata": {},
   "source": [
    "# Handwritten Digit Classification with Hybrid CNN and SVM model\n",
    "A comparative study of a classic CNN model and a CNN-SVM hybrid where the feature matrix learnt by a CNN's convolutional layers are used to train a multi-class SVM classifier."
   ]
  },
  {
   "cell_type": "code",
   "execution_count": 23,
   "metadata": {},
   "outputs": [],
   "source": [
    "import joblib\n",
    "import matplotlib.pyplot as plt\n",
    "import numpy as np\n",
    "import pandas as pd\n",
    "import seaborn as sns\n",
    "import tensorflow as tf\n",
    "\n",
    "from math import isqrt\n",
    "\n",
    "from matplotlib.colors import ListedColormap\n",
    "\n",
    "from sklearn.metrics import accuracy_score\n",
    "from sklearn.metrics import classification_report\n",
    "from sklearn.metrics import confusion_matrix\n",
    "from sklearn.model_selection import KFold\n",
    "from sklearn.model_selection import learning_curve\n",
    "from sklearn.svm import SVC\n",
    "\n",
    "from tensorflow.keras.datasets import mnist\n",
    "from tensorflow.keras.layers import Conv2D\n",
    "from tensorflow.keras.layers import MaxPooling2D\n",
    "from tensorflow.keras.layers import Dense\n",
    "from tensorflow.keras.layers import Dropout\n",
    "from tensorflow.keras.layers import Flatten\n",
    "from tensorflow.keras.models import Sequential\n",
    "from tensorflow.keras.models import load_model\n",
    "from tensorflow.keras.optimizers import Adam\n",
    "from tensorflow.keras.utils import to_categorical\n",
    "\n"
   ]
  },
  {
   "cell_type": "code",
   "execution_count": 2,
   "metadata": {},
   "outputs": [
    {
     "name": "stdout",
     "output_type": "stream",
     "text": [
      "Metal device set to: Apple M1 Pro\n",
      "\n",
      "systemMemory: 16.00 GB\n",
      "maxCacheSize: 5.33 GB\n",
      "\n"
     ]
    },
    {
     "name": "stderr",
     "output_type": "stream",
     "text": [
      "2022-12-07 00:59:15.203491: I tensorflow/core/common_runtime/pluggable_device/pluggable_device_factory.cc:305] Could not identify NUMA node of platform GPU ID 0, defaulting to 0. Your kernel may not have been built with NUMA support.\n",
      "2022-12-07 00:59:15.203793: I tensorflow/core/common_runtime/pluggable_device/pluggable_device_factory.cc:271] Created TensorFlow device (/job:localhost/replica:0/task:0/device:GPU:0 with 0 MB memory) -> physical PluggableDevice (device: 0, name: METAL, pci bus id: <undefined>)\n"
     ]
    },
    {
     "data": {
      "text/plain": [
       "<tensorflow.python.eager.context._EagerDeviceContext at 0x288882fc0>"
      ]
     },
     "execution_count": 2,
     "metadata": {},
     "output_type": "execute_result"
    }
   ],
   "source": [
    "tf.device('/GPU:0') if tf.config.list_physical_devices('GPU') else tf.device('/CPU:0')\n"
   ]
  },
  {
   "attachments": {},
   "cell_type": "markdown",
   "metadata": {},
   "source": [
    "------------------------------------------------------------------------"
   ]
  },
  {
   "attachments": {},
   "cell_type": "markdown",
   "metadata": {},
   "source": [
    "### Helper functions"
   ]
  },
  {
   "cell_type": "code",
   "execution_count": 3,
   "metadata": {},
   "outputs": [],
   "source": [
    "# k-fold cross-validation\n",
    "def k_fold_cross_validation(X, y, n_splits, model, epochs, batch_size):\n",
    "    cv = KFold(n_splits=n_splits, shuffle=True, random_state=42)\n",
    "\n",
    "    scores = {'accuracy': [], 'loss': [], 'val_accuracy': [], 'val_loss': []}\n",
    "\n",
    "    for train_index, test_index in cv.split(X):\n",
    "        fold_no = len(scores['accuracy']) + 1\n",
    "\n",
    "        X_train, X_test = X[train_index], X[test_index]\n",
    "        y_train, y_test = y[train_index], y[test_index]\n",
    "\n",
    "        history = model.fit(X_train, y_train, epochs=epochs,\n",
    "                            batch_size=batch_size, verbose=1, validation_split=0.2)\n",
    "\n",
    "        score = model.evaluate(X_test, y_test, verbose=0)\n",
    "\n",
    "        print(f'Score for fold {fold_no}: {model.metrics_names[0]} of {score[0]}; {model.metrics_names[1]} of {score[1]*100}%')\n",
    "\n",
    "        scores['accuracy'].append(score[1] * 100)\n",
    "        scores['loss'].append(score[0])\n",
    "        scores['val_accuracy'].append(history.history['val_accuracy'][-1] * 100)\n",
    "        scores['val_loss'].append(history.history['val_loss'][-1])\n",
    "\n",
    "    return scores"
   ]
  },
  {
   "cell_type": "code",
   "execution_count": 4,
   "metadata": {},
   "outputs": [],
   "source": [
    "def pretty_print_cv_results(scores):\n",
    "    print('------------------------------------------------------------------------')\n",
    "    print('Score per fold')\n",
    "\n",
    "    for i in range(len(scores['loss'])):\n",
    "        print('------------------------------------------------------------------------')\n",
    "        print(\n",
    "            f\"> Fold {i+1} - Loss: {scores['loss'][i]} - Accuracy: {scores['accuracy'][i]}%\")\n",
    "\n",
    "    print('------------------------------------------------------------------------')\n",
    "    print('Average scores for all folds:')\n",
    "    print(f\"> Accuracy: {np.mean(scores['accuracy'])} (+- {np.std(scores['accuracy'])}\")\n",
    "    print(f\"> Loss: {np.mean(scores['loss'])}\")\n",
    "    print('------------------------------------------------------------------------')\n"
   ]
  },
  {
   "cell_type": "code",
   "execution_count": 38,
   "metadata": {},
   "outputs": [],
   "source": [
    "# plotting helpers\n",
    "\n",
    "def plot_loss_accuracy(scores):\n",
    "    plt.figure(figsize=(10, 5))\n",
    "    plt.subplot(1, 2, 1)\n",
    "    plt.plot(scores['accuracy'], label='Accuracy')\n",
    "    plt.plot(scores['val_accuracy'], label='Val Accuracy')\n",
    "    plt.title('Accuracy and Val Accuracy')\n",
    "    plt.xlabel('Epoch')\n",
    "    plt.ylabel('Accuracy / Val Accuracy')\n",
    "    plt.legend(loc='best')\n",
    "\n",
    "    plt.subplot(1, 2, 2)\n",
    "    plt.plot(scores['loss'], label='Loss')\n",
    "    plt.plot(scores['val_loss'], label='Val Loss')\n",
    "    plt.title('Loss and Val Loss')\n",
    "    plt.xlabel('Epoch')\n",
    "    plt.ylabel('Loss / Val Loss')\n",
    "    plt.legend(loc='best')\n",
    "\n",
    "    plt.tight_layout()\n",
    "    plt.show()\n",
    "\n",
    "\n",
    "def plot_misclassified(X_test, y_test, y_pred):\n",
    "    misclassified = np.where(y_test != y_pred)[0]\n",
    "    print(f'Total misclassified samples: {len(misclassified)}')\n",
    "\n",
    "    plt.figure(figsize=(10, 5))\n",
    "    for i, index in enumerate(misclassified[:5]):\n",
    "        plt.subplot(1, 5, i + 1)\n",
    "        plt.imshow(X_test[index].reshape(28, 28), cmap='gray')\n",
    "        plt.title(f'Predicted: {y_pred[index]}, Actual: {y_test[index]}')\n",
    "\n",
    "    plt.tight_layout()\n",
    "    plt.show()\n",
    "\n",
    "\n",
    "def plot_confusion_matrix(y_test, y_pred):\n",
    "    cm = confusion_matrix(y_test, y_pred)\n",
    "    plt.figure(figsize=(10, 10))\n",
    "    sns.heatmap(cm, annot=True, fmt='d', cmap='Blues')\n",
    "    plt.xlabel('Predicted')\n",
    "    plt.ylabel('Actual')\n",
    "    plt.show()\n"
   ]
  },
  {
   "attachments": {},
   "cell_type": "markdown",
   "metadata": {},
   "source": [
    "------------------------------------------------------------------------"
   ]
  },
  {
   "attachments": {},
   "cell_type": "markdown",
   "metadata": {},
   "source": [
    "### Loading and visualizing the dataset"
   ]
  },
  {
   "cell_type": "code",
   "execution_count": 6,
   "metadata": {},
   "outputs": [
    {
     "data": {
      "text/plain": [
       "((60000, 28, 28), (60000,), (10000, 28, 28), (10000,))"
      ]
     },
     "execution_count": 6,
     "metadata": {},
     "output_type": "execute_result"
    }
   ],
   "source": [
    "# load the dataset\n",
    "(X_train, y_train), (X_test, y_test) = mnist.load_data()\n",
    "\n",
    "X_train.shape, y_train.shape, X_test.shape, y_test.shape\n"
   ]
  },
  {
   "cell_type": "code",
   "execution_count": 7,
   "metadata": {},
   "outputs": [
    {
     "data": {
      "image/png": "[encoded data removed]",
      "text/plain": [
       "<Figure size 720x360 with 10 Axes>"
      ]
     },
     "metadata": {
      "needs_background": "light"
     },
     "output_type": "display_data"
    }
   ],
   "source": [
    "# plot the first few images\n",
    "fig, axes = plt.subplots(2, 5, figsize=(10, 5))\n",
    "for i, ax in enumerate(axes.flat):\n",
    "    ax.imshow(X_train[i], cmap='binary')\n",
    "    ax.set(title = f'Number {y_train[i]}')\n",
    "\n",
    "plt.show()"
   ]
  },
  {
   "attachments": {},
   "cell_type": "markdown",
   "metadata": {},
   "source": [
    "### Preprocessing the dataset"
   ]
  },
  {
   "cell_type": "code",
   "execution_count": 8,
   "metadata": {},
   "outputs": [],
   "source": [
    "# reshape the data to preserve only the alpha channel\n",
    "X_train = X_train.reshape(-1, 28, 28, 1)\n",
    "X_test = X_test.reshape(-1, 28, 28, 1)\n",
    "\n",
    "# one-hot encode the labels\n",
    "y_train = tf.keras.utils.to_categorical(y_train, 10)\n",
    "y_test = tf.keras.utils.to_categorical(y_test, 10)\n",
    "\n",
    "# convert int to float32\n",
    "X_train = X_train.astype('float32')\n",
    "X_test = X_test.astype('float32')\n",
    "\n",
    "# normalize the data\n",
    "X_train /= 255\n",
    "X_test /= 255\n"
   ]
  },
  {
   "attachments": {},
   "cell_type": "markdown",
   "metadata": {},
   "source": [
    "------------------------------------------------------------------------"
   ]
  },
  {
   "attachments": {},
   "cell_type": "markdown",
   "metadata": {},
   "source": [
    "### Building the baseline CNN model"
   ]
  },
  {
   "cell_type": "code",
   "execution_count": 9,
   "metadata": {},
   "outputs": [],
   "source": [
    "# create the base model\n",
    "base_model = Sequential([\n",
    "        Conv2D(32, kernel_size=(3, 3), activation='relu', input_shape=(28, 28, 1)),\n",
    "        MaxPooling2D(pool_size=(2, 2)),\n",
    "        Conv2D(64, kernel_size=(3, 3), activation='relu'),\n",
    "        MaxPooling2D(pool_size=(2, 2)),\n",
    "        Flatten(),\n",
    "    ])\n"
   ]
  },
  {
   "cell_type": "code",
   "execution_count": 10,
   "metadata": {},
   "outputs": [],
   "source": [
    "# add the dense layers (default classifier)\n",
    "cnn = Sequential([\n",
    "        base_model,\n",
    "        Dense(256, activation='relu'),\n",
    "        Dense(128, activation='relu'),\n",
    "        Dropout(0.5),\n",
    "        Dense(10, activation='softmax')\n",
    "    ])\n"
   ]
  },
  {
   "cell_type": "code",
   "execution_count": 11,
   "metadata": {},
   "outputs": [],
   "source": [
    "# compile the model\n",
    "optimizer = Adam(learning_rate=0.001, beta_1=0.9, beta_2=0.999)\n",
    "cnn.compile(loss='categorical_crossentropy', optimizer=optimizer, metrics=['accuracy'])\n"
   ]
  },
  {
   "attachments": {},
   "cell_type": "markdown",
   "metadata": {},
   "source": [
    "### Training the baseline model"
   ]
  },
  {
   "cell_type": "code",
   "execution_count": 12,
   "metadata": {},
   "outputs": [
    {
     "name": "stdout",
     "output_type": "stream",
     "text": [
      "Epoch 1/10\n"
     ]
    },
    {
     "name": "stderr",
     "output_type": "stream",
     "text": [
      "2022-12-07 00:59:16.918585: W tensorflow/core/platform/profile_utils/cpu_utils.cc:128] Failed to get CPU frequency: 0 Hz\n",
      "2022-12-07 00:59:17.364706: I tensorflow/core/grappler/optimizers/custom_graph_optimizer_registry.cc:113] Plugin optimizer for device_type GPU is enabled.\n"
     ]
    },
    {
     "name": "stdout",
     "output_type": "stream",
     "text": [
      "297/300 [============================>.] - ETA: 0s - loss: 0.3614 - accuracy: 0.8865"
     ]
    },
    {
     "name": "stderr",
     "output_type": "stream",
     "text": [
      "2022-12-07 00:59:22.103564: I tensorflow/core/grappler/optimizers/custom_graph_optimizer_registry.cc:113] Plugin optimizer for device_type GPU is enabled.\n"
     ]
    },
    {
     "name": "stdout",
     "output_type": "stream",
     "text": [
      "300/300 [==============================] - 6s 17ms/step - loss: 0.3592 - accuracy: 0.8871 - val_loss: 0.0912 - val_accuracy: 0.9725\n",
      "Epoch 2/10\n",
      "300/300 [==============================] - 6s 19ms/step - loss: 0.0956 - accuracy: 0.9712 - val_loss: 0.0574 - val_accuracy: 0.9819\n",
      "Epoch 3/10\n",
      "300/300 [==============================] - 5s 17ms/step - loss: 0.0627 - accuracy: 0.9821 - val_loss: 0.0475 - val_accuracy: 0.9852\n",
      "Epoch 4/10\n",
      "300/300 [==============================] - 6s 18ms/step - loss: 0.0489 - accuracy: 0.9854 - val_loss: 0.0488 - val_accuracy: 0.9854\n",
      "Epoch 5/10\n",
      "300/300 [==============================] - 5s 16ms/step - loss: 0.0368 - accuracy: 0.9888 - val_loss: 0.0469 - val_accuracy: 0.9866\n",
      "Epoch 6/10\n",
      "300/300 [==============================] - 5s 17ms/step - loss: 0.0281 - accuracy: 0.9911 - val_loss: 0.0362 - val_accuracy: 0.9897\n",
      "Epoch 7/10\n",
      "300/300 [==============================] - 5s 15ms/step - loss: 0.0242 - accuracy: 0.9925 - val_loss: 0.0460 - val_accuracy: 0.9889\n",
      "Epoch 8/10\n",
      "300/300 [==============================] - 5s 17ms/step - loss: 0.0200 - accuracy: 0.9937 - val_loss: 0.0469 - val_accuracy: 0.9879\n",
      "Epoch 9/10\n",
      "300/300 [==============================] - 6s 18ms/step - loss: 0.0159 - accuracy: 0.9948 - val_loss: 0.0424 - val_accuracy: 0.9886\n",
      "Epoch 10/10\n",
      "300/300 [==============================] - 5s 17ms/step - loss: 0.0145 - accuracy: 0.9953 - val_loss: 0.0449 - val_accuracy: 0.9881\n"
     ]
    },
    {
     "name": "stderr",
     "output_type": "stream",
     "text": [
      "2022-12-07 01:00:09.180877: I tensorflow/core/grappler/optimizers/custom_graph_optimizer_registry.cc:113] Plugin optimizer for device_type GPU is enabled.\n"
     ]
    },
    {
     "name": "stdout",
     "output_type": "stream",
     "text": [
      "Score for fold 1: loss of 0.04078652709722519; accuracy of 98.94166588783264%\n",
      "Epoch 1/10\n",
      "300/300 [==============================] - 5s 17ms/step - loss: 0.0206 - accuracy: 0.9940 - val_loss: 0.0403 - val_accuracy: 0.9905\n",
      "Epoch 2/10\n",
      "300/300 [==============================] - 6s 18ms/step - loss: 0.0156 - accuracy: 0.9949 - val_loss: 0.0411 - val_accuracy: 0.9892\n",
      "Epoch 3/10\n",
      "300/300 [==============================] - 6s 19ms/step - loss: 0.0116 - accuracy: 0.9965 - val_loss: 0.0483 - val_accuracy: 0.9892\n",
      "Epoch 4/10\n",
      "300/300 [==============================] - 6s 21ms/step - loss: 0.0087 - accuracy: 0.9968 - val_loss: 0.0489 - val_accuracy: 0.9894\n",
      "Epoch 5/10\n",
      "300/300 [==============================] - 5s 17ms/step - loss: 0.0072 - accuracy: 0.9975 - val_loss: 0.0475 - val_accuracy: 0.9897\n",
      "Epoch 6/10\n",
      "300/300 [==============================] - 5s 15ms/step - loss: 0.0069 - accuracy: 0.9977 - val_loss: 0.0554 - val_accuracy: 0.9885\n",
      "Epoch 7/10\n",
      "300/300 [==============================] - 4s 15ms/step - loss: 0.0105 - accuracy: 0.9963 - val_loss: 0.0530 - val_accuracy: 0.9884\n",
      "Epoch 8/10\n",
      "300/300 [==============================] - 5s 15ms/step - loss: 0.0073 - accuracy: 0.9977 - val_loss: 0.0525 - val_accuracy: 0.9902\n",
      "Epoch 9/10\n",
      "300/300 [==============================] - 5s 16ms/step - loss: 0.0044 - accuracy: 0.9986 - val_loss: 0.0475 - val_accuracy: 0.9914\n",
      "Epoch 10/10\n",
      "300/300 [==============================] - 5s 16ms/step - loss: 0.0056 - accuracy: 0.9983 - val_loss: 0.0559 - val_accuracy: 0.9901\n",
      "Score for fold 2: loss of 0.021448198705911636; accuracy of 99.48333501815796%\n",
      "Epoch 1/10\n",
      "300/300 [==============================] - 5s 17ms/step - loss: 0.0125 - accuracy: 0.9963 - val_loss: 0.0424 - val_accuracy: 0.9914\n",
      "Epoch 2/10\n",
      "300/300 [==============================] - 4s 15ms/step - loss: 0.0064 - accuracy: 0.9981 - val_loss: 0.0442 - val_accuracy: 0.9903\n",
      "Epoch 3/10\n",
      "300/300 [==============================] - 5s 15ms/step - loss: 0.0070 - accuracy: 0.9981 - val_loss: 0.0447 - val_accuracy: 0.9914\n",
      "Epoch 4/10\n",
      "300/300 [==============================] - 5s 16ms/step - loss: 0.0054 - accuracy: 0.9986 - val_loss: 0.0528 - val_accuracy: 0.9909\n",
      "Epoch 5/10\n",
      "300/300 [==============================] - 5s 15ms/step - loss: 0.0059 - accuracy: 0.9984 - val_loss: 0.0555 - val_accuracy: 0.9901\n",
      "Epoch 6/10\n",
      "300/300 [==============================] - 5s 17ms/step - loss: 0.0034 - accuracy: 0.9989 - val_loss: 0.0511 - val_accuracy: 0.9908\n",
      "Epoch 7/10\n",
      "300/300 [==============================] - 5s 16ms/step - loss: 0.0047 - accuracy: 0.9985 - val_loss: 0.0386 - val_accuracy: 0.9931\n",
      "Epoch 8/10\n",
      "300/300 [==============================] - 5s 16ms/step - loss: 0.0024 - accuracy: 0.9993 - val_loss: 0.0393 - val_accuracy: 0.9927\n",
      "Epoch 9/10\n",
      "300/300 [==============================] - 5s 15ms/step - loss: 0.0024 - accuracy: 0.9992 - val_loss: 0.0478 - val_accuracy: 0.9925\n",
      "Epoch 10/10\n",
      "300/300 [==============================] - 4s 15ms/step - loss: 0.0047 - accuracy: 0.9987 - val_loss: 0.0652 - val_accuracy: 0.9901\n",
      "Score for fold 3: loss of 0.025967076420783997; accuracy of 99.40000176429749%\n",
      "Epoch 1/10\n",
      "300/300 [==============================] - 5s 17ms/step - loss: 0.0068 - accuracy: 0.9976 - val_loss: 0.0482 - val_accuracy: 0.9908\n",
      "Epoch 2/10\n",
      "300/300 [==============================] - 5s 16ms/step - loss: 0.0031 - accuracy: 0.9991 - val_loss: 0.0515 - val_accuracy: 0.9908\n",
      "Epoch 3/10\n",
      "300/300 [==============================] - 5s 17ms/step - loss: 0.0050 - accuracy: 0.9983 - val_loss: 0.0540 - val_accuracy: 0.9907\n",
      "Epoch 4/10\n",
      "300/300 [==============================] - 5s 16ms/step - loss: 0.0040 - accuracy: 0.9989 - val_loss: 0.0499 - val_accuracy: 0.9918\n",
      "Epoch 5/10\n",
      "300/300 [==============================] - 5s 16ms/step - loss: 0.0043 - accuracy: 0.9985 - val_loss: 0.0564 - val_accuracy: 0.9909\n",
      "Epoch 6/10\n",
      "300/300 [==============================] - 5s 16ms/step - loss: 0.0019 - accuracy: 0.9995 - val_loss: 0.0543 - val_accuracy: 0.9928\n",
      "Epoch 7/10\n",
      "300/300 [==============================] - 5s 17ms/step - loss: 0.0040 - accuracy: 0.9989 - val_loss: 0.0601 - val_accuracy: 0.9903\n",
      "Epoch 8/10\n",
      "300/300 [==============================] - 5s 18ms/step - loss: 0.0044 - accuracy: 0.9987 - val_loss: 0.0577 - val_accuracy: 0.9901\n",
      "Epoch 9/10\n",
      "300/300 [==============================] - 5s 16ms/step - loss: 0.0031 - accuracy: 0.9989 - val_loss: 0.0620 - val_accuracy: 0.9910\n",
      "Epoch 10/10\n",
      "300/300 [==============================] - 5s 16ms/step - loss: 0.0016 - accuracy: 0.9994 - val_loss: 0.0490 - val_accuracy: 0.9921\n",
      "Score for fold 4: loss of 0.016913576051592827; accuracy of 99.6666669845581%\n",
      "Epoch 1/10\n",
      "300/300 [==============================] - 5s 16ms/step - loss: 0.0040 - accuracy: 0.9986 - val_loss: 0.0746 - val_accuracy: 0.9901\n",
      "Epoch 2/10\n",
      "300/300 [==============================] - 5s 15ms/step - loss: 0.0049 - accuracy: 0.9985 - val_loss: 0.0637 - val_accuracy: 0.9907\n",
      "Epoch 3/10\n",
      "300/300 [==============================] - 5s 17ms/step - loss: 0.0041 - accuracy: 0.9986 - val_loss: 0.0579 - val_accuracy: 0.9911\n",
      "Epoch 4/10\n",
      "300/300 [==============================] - 5s 16ms/step - loss: 0.0025 - accuracy: 0.9994 - val_loss: 0.0503 - val_accuracy: 0.9919\n",
      "Epoch 5/10\n",
      "300/300 [==============================] - 4s 15ms/step - loss: 0.0019 - accuracy: 0.9996 - val_loss: 0.0598 - val_accuracy: 0.9920\n",
      "Epoch 6/10\n",
      "300/300 [==============================] - 4s 14ms/step - loss: 6.5663e-04 - accuracy: 0.9999 - val_loss: 0.0586 - val_accuracy: 0.9918\n",
      "Epoch 7/10\n",
      "300/300 [==============================] - 8s 26ms/step - loss: 4.9649e-04 - accuracy: 0.9998 - val_loss: 0.0621 - val_accuracy: 0.9923\n",
      "Epoch 8/10\n",
      "300/300 [==============================] - 6s 20ms/step - loss: 0.0011 - accuracy: 0.9997 - val_loss: 0.0732 - val_accuracy: 0.9898\n",
      "Epoch 9/10\n",
      "300/300 [==============================] - 5s 17ms/step - loss: 0.0042 - accuracy: 0.9989 - val_loss: 0.0717 - val_accuracy: 0.9900\n",
      "Epoch 10/10\n",
      "300/300 [==============================] - 5s 16ms/step - loss: 0.0062 - accuracy: 0.9984 - val_loss: 0.0641 - val_accuracy: 0.9905\n",
      "Score for fold 5: loss of 0.013253380544483662; accuracy of 99.6999979019165%\n"
     ]
    }
   ],
   "source": [
    "# train the model\n",
    "scores = k_fold_cross_validation(X_train, y_train, 5, cnn, 10, 128)\n"
   ]
  },
  {
   "attachments": {},
   "cell_type": "markdown",
   "metadata": {},
   "source": [
    "### Evaluating the baseline model"
   ]
  },
  {
   "cell_type": "code",
   "execution_count": 13,
   "metadata": {},
   "outputs": [
    {
     "name": "stdout",
     "output_type": "stream",
     "text": [
      "------------------------------------------------------------------------\n",
      "Score per fold\n",
      "------------------------------------------------------------------------\n",
      "> Fold 1 - Loss: 0.04078652709722519 - Accuracy: 98.94166588783264%\n",
      "------------------------------------------------------------------------\n",
      "> Fold 2 - Loss: 0.021448198705911636 - Accuracy: 99.48333501815796%\n",
      "------------------------------------------------------------------------\n",
      "> Fold 3 - Loss: 0.025967076420783997 - Accuracy: 99.40000176429749%\n",
      "------------------------------------------------------------------------\n",
      "> Fold 4 - Loss: 0.016913576051592827 - Accuracy: 99.6666669845581%\n",
      "------------------------------------------------------------------------\n",
      "> Fold 5 - Loss: 0.013253380544483662 - Accuracy: 99.6999979019165%\n",
      "------------------------------------------------------------------------\n",
      "Average scores for all folds:\n",
      "> Accuracy: 99.43833351135254 (+- 0.272315117088744\n",
      "> Loss: 0.02367375176399946\n",
      "------------------------------------------------------------------------\n"
     ]
    }
   ],
   "source": [
    "# cross-validation scores\n",
    "pretty_print_cv_results(scores)\n"
   ]
  },
  {
   "cell_type": "code",
   "execution_count": 14,
   "metadata": {},
   "outputs": [
    {
     "data": {
      "image/png": "[encoded data removed]",
      "text/plain": [
       "<Figure size 720x360 with 2 Axes>"
      ]
     },
     "metadata": {
      "needs_background": "light"
     },
     "output_type": "display_data"
    }
   ],
   "source": [
    "# loss and accuracy plots\n",
    "plot_loss_accuracy(scores)"
   ]
  },
  {
   "cell_type": "code",
   "execution_count": 15,
   "metadata": {},
   "outputs": [],
   "source": [
    "# save the model\n",
    "cnn.save('./model/cnn_baseline.h5')\n"
   ]
  },
  {
   "cell_type": "code",
   "execution_count": 16,
   "metadata": {},
   "outputs": [],
   "source": [
    "# load the model\n",
    "cnn = load_model('./model/cnn_baseline.h5')"
   ]
  },
  {
   "cell_type": "code",
   "execution_count": 17,
   "metadata": {},
   "outputs": [
    {
     "name": "stdout",
     "output_type": "stream",
     "text": [
      " 55/313 [====>.........................] - ETA: 0s"
     ]
    },
    {
     "name": "stderr",
     "output_type": "stream",
     "text": [
      "2022-12-07 01:03:44.267187: I tensorflow/core/grappler/optimizers/custom_graph_optimizer_registry.cc:113] Plugin optimizer for device_type GPU is enabled.\n"
     ]
    },
    {
     "name": "stdout",
     "output_type": "stream",
     "text": [
      "313/313 [==============================] - 1s 3ms/step\n",
      "Total misclassified samples: 94\n"
     ]
    },
    {
     "data": {
      "image/png": "[encoded data removed]",
      "text/plain": [
       "<Figure size 720x360 with 5 Axes>"
      ]
     },
     "metadata": {
      "needs_background": "light"
     },
     "output_type": "display_data"
    }
   ],
   "source": [
    "# plot the images that were misclassified\n",
    "\n",
    "# get the predictions\n",
    "y_pred = cnn.predict(X_test).argmax(axis=1)\n",
    "\n",
    "# plot the images\n",
    "plot_misclassified(X_test, y_test.argmax(axis=1), y_pred)\n"
   ]
  },
  {
   "cell_type": "code",
   "execution_count": 18,
   "metadata": {},
   "outputs": [
    {
     "data": {
      "image/png": "[encoded data removed]",
      "text/plain": [
       "<Figure size 720x720 with 2 Axes>"
      ]
     },
     "metadata": {
      "needs_background": "light"
     },
     "output_type": "display_data"
    }
   ],
   "source": [
    "# plot the confusion matrix\n",
    "plot_confusion_matrix(y_test.argmax(axis=1), y_pred)"
   ]
  },
  {
   "attachments": {},
   "cell_type": "markdown",
   "metadata": {},
   "source": [
    "---------------------------------------------------------------------------"
   ]
  },
  {
   "attachments": {},
   "cell_type": "markdown",
   "metadata": {},
   "source": [
    "### Building the hybrid CNN-SVM model"
   ]
  },
  {
   "cell_type": "code",
   "execution_count": 19,
   "metadata": {},
   "outputs": [
    {
     "name": "stdout",
     "output_type": "stream",
     "text": [
      "  64/1875 [>.............................] - ETA: 4s"
     ]
    },
    {
     "name": "stderr",
     "output_type": "stream",
     "text": [
      "2022-12-07 01:03:45.939181: I tensorflow/core/grappler/optimizers/custom_graph_optimizer_registry.cc:113] Plugin optimizer for device_type GPU is enabled.\n"
     ]
    },
    {
     "name": "stdout",
     "output_type": "stream",
     "text": [
      "1875/1875 [==============================] - 4s 2ms/step\n",
      " 29/313 [=>............................] - ETA: 1s"
     ]
    },
    {
     "name": "stderr",
     "output_type": "stream",
     "text": [
      "2022-12-07 01:03:51.027432: I tensorflow/core/grappler/optimizers/custom_graph_optimizer_registry.cc:113] Plugin optimizer for device_type GPU is enabled.\n"
     ]
    },
    {
     "name": "stdout",
     "output_type": "stream",
     "text": [
      "313/313 [==============================] - 1s 3ms/step\n"
     ]
    },
    {
     "data": {
      "text/plain": [
       "((60000, 1600), (10000, 1600))"
      ]
     },
     "execution_count": 19,
     "metadata": {},
     "output_type": "execute_result"
    }
   ],
   "source": [
    "# extract features using base_model\n",
    "X_train_features = base_model.predict(X_train)\n",
    "X_test_features = base_model.predict(X_test)\n",
    "\n",
    "X_train_features.shape, X_test_features.shape\n"
   ]
  },
  {
   "cell_type": "code",
   "execution_count": 41,
   "metadata": {},
   "outputs": [],
   "source": [
    "# build the SVM classifier on top of the extracted features\n",
    "svm = SVC(kernel='linear', C=1.0, random_state=42, verbose=False)\n"
   ]
  },
  {
   "attachments": {},
   "cell_type": "markdown",
   "metadata": {},
   "source": [
    "### Training the hybrid model"
   ]
  },
  {
   "cell_type": "code",
   "execution_count": 44,
   "metadata": {},
   "outputs": [],
   "source": [
    "# train the model\n",
    "svm.fit(X_train_features, y_train.argmax(axis=1))\n",
    "\n",
    "train_sizes, train_scores, test_scores = learning_curve(svm, X_train_features, y_train.argmax(\n",
    "    axis=1), cv=5, scoring='accuracy', train_sizes=np.linspace(0.1, 1.0, 10), n_jobs=-1, verbose=0)\n"
   ]
  },
  {
   "attachments": {},
   "cell_type": "markdown",
   "metadata": {},
   "source": [
    "### Evaluating the hybrid model"
   ]
  },
  {
   "cell_type": "code",
   "execution_count": 45,
   "metadata": {},
   "outputs": [
    {
     "name": "stdout",
     "output_type": "stream",
     "text": [
      "Accuracy: 99.19%\n",
      "              precision    recall  f1-score   support\n",
      "\n",
      "           0       0.99      1.00      1.00       980\n",
      "           1       0.99      1.00      0.99      1135\n",
      "           2       0.99      0.99      0.99      1032\n",
      "           3       0.99      0.99      0.99      1010\n",
      "           4       0.99      1.00      0.99       982\n",
      "           5       0.99      0.99      0.99       892\n",
      "           6       1.00      0.99      0.99       958\n",
      "           7       0.99      0.99      0.99      1028\n",
      "           8       0.99      0.99      0.99       974\n",
      "           9       0.99      0.99      0.99      1009\n",
      "\n",
      "    accuracy                           0.99     10000\n",
      "   macro avg       0.99      0.99      0.99     10000\n",
      "weighted avg       0.99      0.99      0.99     10000\n",
      "\n"
     ]
    }
   ],
   "source": [
    "# evaluate the model\n",
    "y_pred = svm.predict(X_test_features)\n",
    "y_test_labels = y_test.argmax(axis=1)\n",
    "\n",
    "print(f'Accuracy: {accuracy_score(y_test_labels, y_pred) * 100}%')\n",
    "print(classification_report(y_test_labels, y_pred))\n"
   ]
  },
  {
   "cell_type": "code",
   "execution_count": 46,
   "metadata": {},
   "outputs": [
    {
     "data": {
      "text/plain": [
       "['./model/cnn_svm.pkl']"
      ]
     },
     "execution_count": 46,
     "metadata": {},
     "output_type": "execute_result"
    }
   ],
   "source": [
    "# save the hybrid model\n",
    "joblib.dump(svm, './model/cnn_svm.pkl')"
   ]
  },
  {
   "cell_type": "code",
   "execution_count": 47,
   "metadata": {},
   "outputs": [],
   "source": [
    "# load the saved model\n",
    "svm = joblib.load('./model/cnn_svm.pkl')"
   ]
  },
  {
   "cell_type": "code",
   "execution_count": 48,
   "metadata": {},
   "outputs": [
    {
     "data": {
      "text/plain": [
       "[<matplotlib.lines.Line2D at 0x2c2bf3fd0>]"
      ]
     },
     "execution_count": 48,
     "metadata": {},
     "output_type": "execute_result"
    },
    {
     "data": {
      "image/png": "[encoded data removed]",
      "text/plain": [
       "<Figure size 432x288 with 1 Axes>"
      ]
     },
     "metadata": {
      "needs_background": "light"
     },
     "output_type": "display_data"
    }
   ],
   "source": [
    "# plot accuracy vs number of training samples\n",
    "\n",
    "train_mean = np.mean(train_scores, axis=1)\n",
    "train_std = np.std(train_scores, axis=1)\n",
    "test_mean = np.mean(test_scores, axis=1)\n",
    "test_std = np.std(test_scores, axis=1)\n",
    "\n",
    "plt.plot(train_sizes, train_mean, color='blue', marker='o', markersize=5, label='training accuracy')"
   ]
  },
  {
   "cell_type": "code",
   "execution_count": 49,
   "metadata": {},
   "outputs": [
    {
     "name": "stdout",
     "output_type": "stream",
     "text": [
      "Total misclassified samples: 81\n"
     ]
    },
    {
     "data": {
      "image/png": "[encoded data removed]",
      "text/plain": [
       "<Figure size 720x360 with 5 Axes>"
      ]
     },
     "metadata": {
      "needs_background": "light"
     },
     "output_type": "display_data"
    }
   ],
   "source": [
    "# plot misclassified images\n",
    "plot_misclassified(X_test, y_test.argmax(axis=1), y_pred)"
   ]
  },
  {
   "cell_type": "code",
   "execution_count": 50,
   "metadata": {},
   "outputs": [
    {
     "data": {
      "image/png": "[encoded data removed]",
      "text/plain": [
       "<Figure size 720x720 with 2 Axes>"
      ]
     },
     "metadata": {
      "needs_background": "light"
     },
     "output_type": "display_data"
    }
   ],
   "source": [
    "# plot the confusion matrix\n",
    "plot_confusion_matrix(y_test.argmax(axis=1), y_pred)"
   ]
  },
  {
   "attachments": {},
   "cell_type": "markdown",
   "metadata": {},
   "source": [
    "------------------------------------------------------------------------"
   ]
  },
  {
   "attachments": {},
   "cell_type": "markdown",
   "metadata": {},
   "source": [
    "## Observations:\n",
    "  - The hybrid model gives a slightly lower accuracy, but the number of misclassified digits is significantly lower (94 vs 81)."
   ]
  }
 ],
 "metadata": {
  "kernelspec": {
   "display_name": "base",
   "language": "python",
   "name": "python3"
  },
  "language_info": {
   "codemirror_mode": {
    "name": "ipython",
    "version": 3
   },
   "file_extension": ".py",
   "mimetype": "text/x-python",
   "name": "python",
   "nbconvert_exporter": "python",
   "pygments_lexer": "ipython3",
   "version": "3.9.13"
  },
  "orig_nbformat": 4,
  "vscode": {
   "interpreter": {
    "hash": "8925e1cb74940c9c739f4d1d49e83e1784f45b2140fb8d89f43e40ef302d4e1e"
   }
  }
 },
 "nbformat": 4,
 "nbformat_minor": 2
}
